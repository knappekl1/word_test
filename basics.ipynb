{
 "cells": [
  {
   "cell_type": "code",
   "execution_count": 2,
   "id": "53d273ca-3156-4558-942e-f1b118137dda",
   "metadata": {
    "tags": []
   },
   "outputs": [],
   "source": [
    "#!pip install python-docx"
   ]
  },
  {
   "cell_type": "code",
   "execution_count": 4,
   "id": "4276dc25-8a3f-4aa4-995c-79408c2eee2d",
   "metadata": {
    "tags": []
   },
   "outputs": [],
   "source": [
    "from docx import Document"
   ]
  },
  {
   "cell_type": "code",
   "execution_count": 35,
   "id": "1a9a8229-a732-4e42-ab65-798e1c1c9756",
   "metadata": {
    "tags": []
   },
   "outputs": [],
   "source": [
    "# create empty word document\n",
    "doc = Document()\n",
    "# load in an existing document\n",
    "doc = Document(\"./documents/Posudek_demo.docx\")"
   ]
  },
  {
   "cell_type": "code",
   "execution_count": 45,
   "id": "16799927-5826-403c-a856-c1238201b622",
   "metadata": {
    "tags": []
   },
   "outputs": [],
   "source": [
    "# save document\n",
    "doc.save(\"test.docx\")"
   ]
  },
  {
   "cell_type": "code",
   "execution_count": 36,
   "id": "5cc0d5ee-36db-44eb-8503-4b59ec8f62f1",
   "metadata": {
    "tags": []
   },
   "outputs": [
    {
     "data": {
      "text/plain": [
       "6"
      ]
     },
     "execution_count": 36,
     "metadata": {},
     "output_type": "execute_result"
    }
   ],
   "source": [
    "# Sections\n",
    "len(doc.sections)"
   ]
  },
  {
   "cell_type": "code",
   "execution_count": 37,
   "id": "df50c15b-aa2d-4370-a963-bf3b00ad2f8d",
   "metadata": {
    "tags": []
   },
   "outputs": [],
   "source": [
    "sec = doc.sections[0]"
   ]
  },
  {
   "cell_type": "code",
   "execution_count": 38,
   "id": "d096403b-cf39-46e9-9aa6-d9f190bd7080",
   "metadata": {
    "tags": []
   },
   "outputs": [
    {
     "name": "stdout",
     "output_type": "stream",
     "text": [
      "NEW_PAGE (2)\n",
      "NEW_PAGE (2)\n",
      "NEW_PAGE (2)\n",
      "NEW_PAGE (2)\n",
      "NEW_PAGE (2)\n",
      "NEW_PAGE (2)\n"
     ]
    }
   ],
   "source": [
    "for s in doc.sections:\n",
    "    print(s.start_type)"
   ]
  },
  {
   "cell_type": "code",
   "execution_count": 39,
   "id": "5bed628f-707e-4868-9ab9-95eb4330b06c",
   "metadata": {
    "tags": []
   },
   "outputs": [
    {
     "data": {
      "text/plain": [
       "(0, 7560310, 10692130)"
      ]
     },
     "execution_count": 39,
     "metadata": {},
     "output_type": "execute_result"
    }
   ],
   "source": [
    "sec.orientation, sec.page_width, sec.page_height"
   ]
  },
  {
   "cell_type": "code",
   "execution_count": 30,
   "id": "0d0feb30-c3be-4601-a73b-441ed61bfa5c",
   "metadata": {
    "tags": []
   },
   "outputs": [],
   "source": [
    "par = doc.add_paragraph(text=\"This is a test text2 .\")"
   ]
  },
  {
   "cell_type": "code",
   "execution_count": 33,
   "id": "56dbee22-7770-481c-ab75-6e426eeed18d",
   "metadata": {
    "tags": []
   },
   "outputs": [],
   "source": [
    "par.add_run(\"and this is a run\").bold = True"
   ]
  },
  {
   "cell_type": "code",
   "execution_count": 41,
   "id": "ae6e809e-ad4e-4ef3-8109-a36953ebaabc",
   "metadata": {
    "tags": []
   },
   "outputs": [],
   "source": [
    "p0 = doc.paragraphs[0]"
   ]
  },
  {
   "cell_type": "code",
   "execution_count": 44,
   "id": "6d61917f-8be1-4ac5-9711-3f138dde211a",
   "metadata": {
    "tags": []
   },
   "outputs": [],
   "source": [
    "p0.text = \"67Z974\""
   ]
  },
  {
   "cell_type": "code",
   "execution_count": 50,
   "id": "66cca8b7-f2a4-41d1-b517-5d6268fb3d05",
   "metadata": {
    "tags": []
   },
   "outputs": [
    {
     "data": {
      "text/plain": [
       "'Odhad je vypracován pro účely změny právní formy společnosti.'"
      ]
     },
     "execution_count": 50,
     "metadata": {},
     "output_type": "execute_result"
    }
   ],
   "source": [
    "doc.paragraphs[22].text"
   ]
  },
  {
   "cell_type": "code",
   "execution_count": 54,
   "id": "01dd9474-868b-4d49-aff2-634fc5be9c67",
   "metadata": {
    "tags": []
   },
   "outputs": [
    {
     "name": "stdout",
     "output_type": "stream",
     "text": [
      "0 67Z974\n",
      "1 \n",
      "2 \n",
      "3 \n",
      "4 Znalecký posudek\n",
      "5 \n",
      "6 \n",
      "7 \n",
      "8 \n",
      "9 Stanovení tržní hodnoty jmění společnosti Newtech Consulting s.r.o., IČO: 070 78 846, se sídlem V olšinách 16/82, Strašnice, 100 00 Praha 10\n",
      "10 ke dni 31. 5. 2023\n",
      "11 \n",
      "12 \n",
      "13 Objednatel: X Consulting Co. s.r.o., IČO: 065 79 621, \n",
      "14 V olšinách 16/82, Strašnice, 100 00 Praha 10\n",
      "15 \n",
      "16 Odhadce: Ing. Libor Knappek, Hyacintová 3208/8, Praha 10, tel:602727392, znalec v oboru ceny a odhady se specializací na cenné papíry\n",
      "17 \n",
      "18 \n",
      "19 Odhad je proveden k datu 31. 5. 2023\n",
      "20 \n",
      "21 \n",
      "22 Odhad je vypracován pro účely změny právní formy společnosti.\n",
      "23 \n",
      "24 \n",
      "25 \n",
      "26 Datum dohotovení posudku je 28. 6. 2023\n",
      "27 \n",
      "28 \n",
      "29 \n",
      "30 \n",
      "31 \n",
      "32 \n",
      "33 Posudek obsahuje 31 listů včetně této úvodní stránky a 21 listů přílohy včetně krycích listů a předává se ve 2 vyhotoveních\n",
      "\n",
      "34 \n"
     ]
    }
   ],
   "source": [
    "for i, p in enumerate(doc.paragraphs[:35]):\n",
    "    print(i, p.text)"
   ]
  },
  {
   "cell_type": "code",
   "execution_count": null,
   "id": "e95f2066-c036-421d-8edc-4130f7639367",
   "metadata": {},
   "outputs": [],
   "source": []
  }
 ],
 "metadata": {
  "kernelspec": {
   "display_name": "Python 3 (ipykernel)",
   "language": "python",
   "name": "python3"
  },
  "language_info": {
   "codemirror_mode": {
    "name": "ipython",
    "version": 3
   },
   "file_extension": ".py",
   "mimetype": "text/x-python",
   "name": "python",
   "nbconvert_exporter": "python",
   "pygments_lexer": "ipython3",
   "version": "3.11.3"
  }
 },
 "nbformat": 4,
 "nbformat_minor": 5
}
